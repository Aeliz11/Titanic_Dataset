{
 "cells": [
  {
   "cell_type": "markdown",
   "id": "716270df",
   "metadata": {},
   "source": [
    "# Titanic Shipreck\n",
    "On April 15, 1912, during her maiden voyage, the widely considered “unsinkable” RMS Titanic sank after colliding with an iceberg. Unfortunately, there weren’t enough lifeboats for everyone onboard, resulting in the death of 1502 out of 2224 passengers and crew.\n",
    "\n",
    "While there was some element of luck involved in surviving, it seems some groups of people were more likely to survive than others.\n",
    "so the objective of this task is to conduct a comprehensive analysis on the dataset and provide a report with respect to factor to contributes to a passenger surviving or not"
   ]
  },
  {
   "cell_type": "code",
   "execution_count": 51,
   "id": "bff80e5e",
   "metadata": {},
   "outputs": [
    {
     "data": {
      "text/plain": [
       "(1309, 13)"
      ]
     },
     "execution_count": 51,
     "metadata": {},
     "output_type": "execute_result"
    }
   ],
   "source": [
    "import pandas as pd\n",
    "import numpy as np\n",
    "import matplotlib.pyplot as plt\n",
    "import seaborn as sns\n",
    "df = pd.read_csv('titan_accident_without_index.csv')\n",
    "df.shape"
   ]
  },
  {
   "cell_type": "code",
   "execution_count": null,
   "id": "35eb58e0",
   "metadata": {},
   "outputs": [],
   "source": []
  },
  {
   "cell_type": "code",
   "execution_count": null,
   "id": "f088b59a",
   "metadata": {},
   "outputs": [],
   "source": []
  },
  {
   "cell_type": "code",
   "execution_count": 78,
   "id": "e41180b8",
   "metadata": {
    "scrolled": true
   },
   "outputs": [
    {
     "data": {
      "text/html": [
       "<div>\n",
       "<style scoped>\n",
       "    .dataframe tbody tr th:only-of-type {\n",
       "        vertical-align: middle;\n",
       "    }\n",
       "\n",
       "    .dataframe tbody tr th {\n",
       "        vertical-align: top;\n",
       "    }\n",
       "\n",
       "    .dataframe thead th {\n",
       "        text-align: right;\n",
       "    }\n",
       "</style>\n",
       "<table border=\"1\" class=\"dataframe\">\n",
       "  <thead>\n",
       "    <tr style=\"text-align: right;\">\n",
       "      <th></th>\n",
       "      <th>Unnamed: 0</th>\n",
       "      <th>PassengerId</th>\n",
       "      <th>Survived</th>\n",
       "      <th>Pclass</th>\n",
       "      <th>Name</th>\n",
       "      <th>Sex</th>\n",
       "      <th>Age</th>\n",
       "      <th>SibSp</th>\n",
       "      <th>Parch</th>\n",
       "      <th>Ticket</th>\n",
       "      <th>Fare</th>\n",
       "      <th>Cabin</th>\n",
       "      <th>Embarked</th>\n",
       "    </tr>\n",
       "  </thead>\n",
       "  <tbody>\n",
       "    <tr>\n",
       "      <th>0</th>\n",
       "      <td>0</td>\n",
       "      <td>1</td>\n",
       "      <td>0</td>\n",
       "      <td>3</td>\n",
       "      <td>Braund, Mr. Owen Harris</td>\n",
       "      <td>male</td>\n",
       "      <td>22.0</td>\n",
       "      <td>1</td>\n",
       "      <td>0</td>\n",
       "      <td>A/5 21171</td>\n",
       "      <td>7.2500</td>\n",
       "      <td>NaN</td>\n",
       "      <td>S</td>\n",
       "    </tr>\n",
       "    <tr>\n",
       "      <th>1</th>\n",
       "      <td>1</td>\n",
       "      <td>2</td>\n",
       "      <td>1</td>\n",
       "      <td>1</td>\n",
       "      <td>Cumings, Mrs. John Bradley (Florence Briggs Th...</td>\n",
       "      <td>female</td>\n",
       "      <td>38.0</td>\n",
       "      <td>1</td>\n",
       "      <td>0</td>\n",
       "      <td>PC 17599</td>\n",
       "      <td>71.2833</td>\n",
       "      <td>C85</td>\n",
       "      <td>C</td>\n",
       "    </tr>\n",
       "    <tr>\n",
       "      <th>2</th>\n",
       "      <td>2</td>\n",
       "      <td>3</td>\n",
       "      <td>1</td>\n",
       "      <td>3</td>\n",
       "      <td>Heikkinen, Miss. Laina</td>\n",
       "      <td>female</td>\n",
       "      <td>26.0</td>\n",
       "      <td>0</td>\n",
       "      <td>0</td>\n",
       "      <td>STON/O2. 3101282</td>\n",
       "      <td>7.9250</td>\n",
       "      <td>NaN</td>\n",
       "      <td>S</td>\n",
       "    </tr>\n",
       "    <tr>\n",
       "      <th>3</th>\n",
       "      <td>3</td>\n",
       "      <td>4</td>\n",
       "      <td>1</td>\n",
       "      <td>1</td>\n",
       "      <td>Futrelle, Mrs. Jacques Heath (Lily May Peel)</td>\n",
       "      <td>female</td>\n",
       "      <td>35.0</td>\n",
       "      <td>1</td>\n",
       "      <td>0</td>\n",
       "      <td>113803</td>\n",
       "      <td>53.1000</td>\n",
       "      <td>C123</td>\n",
       "      <td>S</td>\n",
       "    </tr>\n",
       "    <tr>\n",
       "      <th>4</th>\n",
       "      <td>4</td>\n",
       "      <td>5</td>\n",
       "      <td>0</td>\n",
       "      <td>3</td>\n",
       "      <td>Allen, Mr. William Henry</td>\n",
       "      <td>male</td>\n",
       "      <td>35.0</td>\n",
       "      <td>0</td>\n",
       "      <td>0</td>\n",
       "      <td>373450</td>\n",
       "      <td>8.0500</td>\n",
       "      <td>NaN</td>\n",
       "      <td>S</td>\n",
       "    </tr>\n",
       "  </tbody>\n",
       "</table>\n",
       "</div>"
      ],
      "text/plain": [
       "   Unnamed: 0  PassengerId  Survived  Pclass  \\\n",
       "0           0            1         0       3   \n",
       "1           1            2         1       1   \n",
       "2           2            3         1       3   \n",
       "3           3            4         1       1   \n",
       "4           4            5         0       3   \n",
       "\n",
       "                                                Name     Sex   Age  SibSp  \\\n",
       "0                            Braund, Mr. Owen Harris    male  22.0      1   \n",
       "1  Cumings, Mrs. John Bradley (Florence Briggs Th...  female  38.0      1   \n",
       "2                             Heikkinen, Miss. Laina  female  26.0      0   \n",
       "3       Futrelle, Mrs. Jacques Heath (Lily May Peel)  female  35.0      1   \n",
       "4                           Allen, Mr. William Henry    male  35.0      0   \n",
       "\n",
       "   Parch            Ticket     Fare Cabin Embarked  \n",
       "0      0         A/5 21171   7.2500   NaN        S  \n",
       "1      0          PC 17599  71.2833   C85        C  \n",
       "2      0  STON/O2. 3101282   7.9250   NaN        S  \n",
       "3      0            113803  53.1000  C123        S  \n",
       "4      0            373450   8.0500   NaN        S  "
      ]
     },
     "execution_count": 78,
     "metadata": {},
     "output_type": "execute_result"
    }
   ],
   "source": [
    "df.head(5)"
   ]
  },
  {
   "cell_type": "code",
   "execution_count": 17,
   "id": "eb07588b",
   "metadata": {},
   "outputs": [
    {
     "data": {
      "text/html": [
       "<div>\n",
       "<style scoped>\n",
       "    .dataframe tbody tr th:only-of-type {\n",
       "        vertical-align: middle;\n",
       "    }\n",
       "\n",
       "    .dataframe tbody tr th {\n",
       "        vertical-align: top;\n",
       "    }\n",
       "\n",
       "    .dataframe thead th {\n",
       "        text-align: right;\n",
       "    }\n",
       "</style>\n",
       "<table border=\"1\" class=\"dataframe\">\n",
       "  <thead>\n",
       "    <tr style=\"text-align: right;\">\n",
       "      <th></th>\n",
       "      <th>Unnamed: 0</th>\n",
       "      <th>PassengerId</th>\n",
       "      <th>Survived</th>\n",
       "      <th>Pclass</th>\n",
       "      <th>Name</th>\n",
       "      <th>Sex</th>\n",
       "      <th>Age</th>\n",
       "      <th>SibSp</th>\n",
       "      <th>Parch</th>\n",
       "      <th>Ticket</th>\n",
       "      <th>Fare</th>\n",
       "      <th>Cabin</th>\n",
       "      <th>Embarked</th>\n",
       "    </tr>\n",
       "  </thead>\n",
       "  <tbody>\n",
       "    <tr>\n",
       "      <th>1304</th>\n",
       "      <td>413</td>\n",
       "      <td>1305</td>\n",
       "      <td>0</td>\n",
       "      <td>3</td>\n",
       "      <td>Spector, Mr. Woolf</td>\n",
       "      <td>male</td>\n",
       "      <td>NaN</td>\n",
       "      <td>0</td>\n",
       "      <td>0</td>\n",
       "      <td>A.5. 3236</td>\n",
       "      <td>8.0500</td>\n",
       "      <td>NaN</td>\n",
       "      <td>S</td>\n",
       "    </tr>\n",
       "    <tr>\n",
       "      <th>1305</th>\n",
       "      <td>414</td>\n",
       "      <td>1306</td>\n",
       "      <td>1</td>\n",
       "      <td>1</td>\n",
       "      <td>Oliva y Ocana, Dona. Fermina</td>\n",
       "      <td>female</td>\n",
       "      <td>39.0</td>\n",
       "      <td>0</td>\n",
       "      <td>0</td>\n",
       "      <td>PC 17758</td>\n",
       "      <td>108.9000</td>\n",
       "      <td>C105</td>\n",
       "      <td>C</td>\n",
       "    </tr>\n",
       "    <tr>\n",
       "      <th>1306</th>\n",
       "      <td>415</td>\n",
       "      <td>1307</td>\n",
       "      <td>0</td>\n",
       "      <td>3</td>\n",
       "      <td>Saether, Mr. Simon Sivertsen</td>\n",
       "      <td>male</td>\n",
       "      <td>38.5</td>\n",
       "      <td>0</td>\n",
       "      <td>0</td>\n",
       "      <td>SOTON/O.Q. 3101262</td>\n",
       "      <td>7.2500</td>\n",
       "      <td>NaN</td>\n",
       "      <td>S</td>\n",
       "    </tr>\n",
       "    <tr>\n",
       "      <th>1307</th>\n",
       "      <td>416</td>\n",
       "      <td>1308</td>\n",
       "      <td>0</td>\n",
       "      <td>3</td>\n",
       "      <td>Ware, Mr. Frederick</td>\n",
       "      <td>male</td>\n",
       "      <td>NaN</td>\n",
       "      <td>0</td>\n",
       "      <td>0</td>\n",
       "      <td>359309</td>\n",
       "      <td>8.0500</td>\n",
       "      <td>NaN</td>\n",
       "      <td>S</td>\n",
       "    </tr>\n",
       "    <tr>\n",
       "      <th>1308</th>\n",
       "      <td>417</td>\n",
       "      <td>1309</td>\n",
       "      <td>0</td>\n",
       "      <td>3</td>\n",
       "      <td>Peter, Master. Michael J</td>\n",
       "      <td>male</td>\n",
       "      <td>NaN</td>\n",
       "      <td>1</td>\n",
       "      <td>1</td>\n",
       "      <td>2668</td>\n",
       "      <td>22.3583</td>\n",
       "      <td>NaN</td>\n",
       "      <td>C</td>\n",
       "    </tr>\n",
       "  </tbody>\n",
       "</table>\n",
       "</div>"
      ],
      "text/plain": [
       "      Unnamed: 0  PassengerId  Survived  Pclass                          Name  \\\n",
       "1304         413         1305         0       3            Spector, Mr. Woolf   \n",
       "1305         414         1306         1       1  Oliva y Ocana, Dona. Fermina   \n",
       "1306         415         1307         0       3  Saether, Mr. Simon Sivertsen   \n",
       "1307         416         1308         0       3           Ware, Mr. Frederick   \n",
       "1308         417         1309         0       3      Peter, Master. Michael J   \n",
       "\n",
       "         Sex   Age  SibSp  Parch              Ticket      Fare Cabin Embarked  \n",
       "1304    male   NaN      0      0           A.5. 3236    8.0500   NaN        S  \n",
       "1305  female  39.0      0      0            PC 17758  108.9000  C105        C  \n",
       "1306    male  38.5      0      0  SOTON/O.Q. 3101262    7.2500   NaN        S  \n",
       "1307    male   NaN      0      0              359309    8.0500   NaN        S  \n",
       "1308    male   NaN      1      1                2668   22.3583   NaN        C  "
      ]
     },
     "execution_count": 17,
     "metadata": {},
     "output_type": "execute_result"
    }
   ],
   "source": [
    "df.tail(5)"
   ]
  },
  {
   "cell_type": "code",
   "execution_count": 18,
   "id": "7bcbcdaf",
   "metadata": {},
   "outputs": [
    {
     "data": {
      "text/html": [
       "<div>\n",
       "<style scoped>\n",
       "    .dataframe tbody tr th:only-of-type {\n",
       "        vertical-align: middle;\n",
       "    }\n",
       "\n",
       "    .dataframe tbody tr th {\n",
       "        vertical-align: top;\n",
       "    }\n",
       "\n",
       "    .dataframe thead th {\n",
       "        text-align: right;\n",
       "    }\n",
       "</style>\n",
       "<table border=\"1\" class=\"dataframe\">\n",
       "  <thead>\n",
       "    <tr style=\"text-align: right;\">\n",
       "      <th></th>\n",
       "      <th>Unnamed: 0</th>\n",
       "      <th>PassengerId</th>\n",
       "      <th>Survived</th>\n",
       "      <th>Pclass</th>\n",
       "      <th>Age</th>\n",
       "      <th>SibSp</th>\n",
       "      <th>Parch</th>\n",
       "      <th>Fare</th>\n",
       "    </tr>\n",
       "  </thead>\n",
       "  <tbody>\n",
       "    <tr>\n",
       "      <th>count</th>\n",
       "      <td>1309.000000</td>\n",
       "      <td>1309.000000</td>\n",
       "      <td>1309.000000</td>\n",
       "      <td>1309.000000</td>\n",
       "      <td>1046.000000</td>\n",
       "      <td>1309.000000</td>\n",
       "      <td>1309.000000</td>\n",
       "      <td>1308.000000</td>\n",
       "    </tr>\n",
       "    <tr>\n",
       "      <th>mean</th>\n",
       "      <td>369.478992</td>\n",
       "      <td>655.000000</td>\n",
       "      <td>0.377387</td>\n",
       "      <td>2.294882</td>\n",
       "      <td>29.881138</td>\n",
       "      <td>0.498854</td>\n",
       "      <td>0.385027</td>\n",
       "      <td>33.295479</td>\n",
       "    </tr>\n",
       "    <tr>\n",
       "      <th>std</th>\n",
       "      <td>248.767105</td>\n",
       "      <td>378.020061</td>\n",
       "      <td>0.484918</td>\n",
       "      <td>0.837836</td>\n",
       "      <td>14.413493</td>\n",
       "      <td>1.041658</td>\n",
       "      <td>0.865560</td>\n",
       "      <td>51.758668</td>\n",
       "    </tr>\n",
       "    <tr>\n",
       "      <th>min</th>\n",
       "      <td>0.000000</td>\n",
       "      <td>1.000000</td>\n",
       "      <td>0.000000</td>\n",
       "      <td>1.000000</td>\n",
       "      <td>0.170000</td>\n",
       "      <td>0.000000</td>\n",
       "      <td>0.000000</td>\n",
       "      <td>0.000000</td>\n",
       "    </tr>\n",
       "    <tr>\n",
       "      <th>25%</th>\n",
       "      <td>163.000000</td>\n",
       "      <td>328.000000</td>\n",
       "      <td>0.000000</td>\n",
       "      <td>2.000000</td>\n",
       "      <td>21.000000</td>\n",
       "      <td>0.000000</td>\n",
       "      <td>0.000000</td>\n",
       "      <td>7.895800</td>\n",
       "    </tr>\n",
       "    <tr>\n",
       "      <th>50%</th>\n",
       "      <td>327.000000</td>\n",
       "      <td>655.000000</td>\n",
       "      <td>0.000000</td>\n",
       "      <td>3.000000</td>\n",
       "      <td>28.000000</td>\n",
       "      <td>0.000000</td>\n",
       "      <td>0.000000</td>\n",
       "      <td>14.454200</td>\n",
       "    </tr>\n",
       "    <tr>\n",
       "      <th>75%</th>\n",
       "      <td>563.000000</td>\n",
       "      <td>982.000000</td>\n",
       "      <td>1.000000</td>\n",
       "      <td>3.000000</td>\n",
       "      <td>39.000000</td>\n",
       "      <td>1.000000</td>\n",
       "      <td>0.000000</td>\n",
       "      <td>31.275000</td>\n",
       "    </tr>\n",
       "    <tr>\n",
       "      <th>max</th>\n",
       "      <td>890.000000</td>\n",
       "      <td>1309.000000</td>\n",
       "      <td>1.000000</td>\n",
       "      <td>3.000000</td>\n",
       "      <td>80.000000</td>\n",
       "      <td>8.000000</td>\n",
       "      <td>9.000000</td>\n",
       "      <td>512.329200</td>\n",
       "    </tr>\n",
       "  </tbody>\n",
       "</table>\n",
       "</div>"
      ],
      "text/plain": [
       "        Unnamed: 0  PassengerId     Survived       Pclass          Age  \\\n",
       "count  1309.000000  1309.000000  1309.000000  1309.000000  1046.000000   \n",
       "mean    369.478992   655.000000     0.377387     2.294882    29.881138   \n",
       "std     248.767105   378.020061     0.484918     0.837836    14.413493   \n",
       "min       0.000000     1.000000     0.000000     1.000000     0.170000   \n",
       "25%     163.000000   328.000000     0.000000     2.000000    21.000000   \n",
       "50%     327.000000   655.000000     0.000000     3.000000    28.000000   \n",
       "75%     563.000000   982.000000     1.000000     3.000000    39.000000   \n",
       "max     890.000000  1309.000000     1.000000     3.000000    80.000000   \n",
       "\n",
       "             SibSp        Parch         Fare  \n",
       "count  1309.000000  1309.000000  1308.000000  \n",
       "mean      0.498854     0.385027    33.295479  \n",
       "std       1.041658     0.865560    51.758668  \n",
       "min       0.000000     0.000000     0.000000  \n",
       "25%       0.000000     0.000000     7.895800  \n",
       "50%       0.000000     0.000000    14.454200  \n",
       "75%       1.000000     0.000000    31.275000  \n",
       "max       8.000000     9.000000   512.329200  "
      ]
     },
     "execution_count": 18,
     "metadata": {},
     "output_type": "execute_result"
    }
   ],
   "source": [
    "df.describe()"
   ]
  },
  {
   "cell_type": "code",
   "execution_count": 38,
   "id": "b79d8a42",
   "metadata": {},
   "outputs": [
    {
     "data": {
      "text/plain": [
       "Unnamed: 0        0\n",
       "PassengerId       0\n",
       "Survived          0\n",
       "Pclass            0\n",
       "Name              0\n",
       "Sex               0\n",
       "Age             263\n",
       "SibSp             0\n",
       "Parch             0\n",
       "Ticket            0\n",
       "Fare              1\n",
       "Cabin          1014\n",
       "Embarked          2\n",
       "dtype: int64"
      ]
     },
     "execution_count": 38,
     "metadata": {},
     "output_type": "execute_result"
    }
   ],
   "source": [
    "#number of null values available or where there is null value\n",
    "df.isnull().sum()"
   ]
  },
  {
   "cell_type": "code",
   "execution_count": 20,
   "id": "a2a55b03",
   "metadata": {
    "scrolled": true
   },
   "outputs": [
    {
     "data": {
      "text/plain": [
       "Unnamed: 0      891\n",
       "PassengerId    1309\n",
       "Survived          2\n",
       "Pclass            3\n",
       "Name           1307\n",
       "Sex               2\n",
       "Age              98\n",
       "SibSp             7\n",
       "Parch             8\n",
       "Ticket          929\n",
       "Fare            281\n",
       "Cabin           186\n",
       "Embarked          3\n",
       "dtype: int64"
      ]
     },
     "execution_count": 20,
     "metadata": {},
     "output_type": "execute_result"
    }
   ],
   "source": [
    "#to check the sum of unique number in each column\n",
    "df.nunique()"
   ]
  },
  {
   "cell_type": "code",
   "execution_count": 21,
   "id": "0e5baa04",
   "metadata": {},
   "outputs": [
    {
     "data": {
      "text/plain": [
       "0       False\n",
       "1       False\n",
       "2       False\n",
       "3       False\n",
       "4       False\n",
       "        ...  \n",
       "1304    False\n",
       "1305    False\n",
       "1306    False\n",
       "1307    False\n",
       "1308    False\n",
       "Name: Survived, Length: 1309, dtype: bool"
      ]
     },
     "execution_count": 21,
     "metadata": {},
     "output_type": "execute_result"
    }
   ],
   "source": [
    "#to check where its survived and not survived\n",
    "((df['Survived'] !=0) & (df['Survived'] !=1))"
   ]
  },
  {
   "cell_type": "code",
   "execution_count": 22,
   "id": "9503a2f3",
   "metadata": {
    "scrolled": true
   },
   "outputs": [
    {
     "data": {
      "text/html": [
       "<div>\n",
       "<style scoped>\n",
       "    .dataframe tbody tr th:only-of-type {\n",
       "        vertical-align: middle;\n",
       "    }\n",
       "\n",
       "    .dataframe tbody tr th {\n",
       "        vertical-align: top;\n",
       "    }\n",
       "\n",
       "    .dataframe thead th {\n",
       "        text-align: right;\n",
       "    }\n",
       "</style>\n",
       "<table border=\"1\" class=\"dataframe\">\n",
       "  <thead>\n",
       "    <tr style=\"text-align: right;\">\n",
       "      <th></th>\n",
       "      <th>Unnamed: 0</th>\n",
       "      <th>PassengerId</th>\n",
       "      <th>Survived</th>\n",
       "      <th>Pclass</th>\n",
       "      <th>Name</th>\n",
       "      <th>Sex</th>\n",
       "      <th>Age</th>\n",
       "      <th>SibSp</th>\n",
       "      <th>Parch</th>\n",
       "      <th>Ticket</th>\n",
       "      <th>Fare</th>\n",
       "      <th>Cabin</th>\n",
       "      <th>Embarked</th>\n",
       "    </tr>\n",
       "  </thead>\n",
       "  <tbody>\n",
       "  </tbody>\n",
       "</table>\n",
       "</div>"
      ],
      "text/plain": [
       "Empty DataFrame\n",
       "Columns: [Unnamed: 0, PassengerId, Survived, Pclass, Name, Sex, Age, SibSp, Parch, Ticket, Fare, Cabin, Embarked]\n",
       "Index: []"
      ]
     },
     "execution_count": 22,
     "metadata": {},
     "output_type": "execute_result"
    }
   ],
   "source": [
    "#to check where the condition is true or false in the variable above, assign the variable to x\n",
    "\n",
    "x=((df['Survived'] !=0) & (df['Survived'] !=1))\n",
    "df[x]"
   ]
  },
  {
   "cell_type": "markdown",
   "id": "2c49e3c1",
   "metadata": {},
   "source": [
    "# EXPLORATORY DATA ANALYSIS"
   ]
  },
  {
   "cell_type": "markdown",
   "id": "ebdf3bd1",
   "metadata": {},
   "source": [
    "# 1. PASSENGER'S DEMOGRAPHICS"
   ]
  },
  {
   "cell_type": "code",
   "execution_count": 4,
   "id": "425b8612",
   "metadata": {},
   "outputs": [
    {
     "data": {
      "text/plain": [
       "male      843\n",
       "female    466\n",
       "Name: Sex, dtype: int64"
      ]
     },
     "execution_count": 4,
     "metadata": {},
     "output_type": "execute_result"
    }
   ],
   "source": [
    "survival_by_gender = df['Sex'].value_counts()\n",
    "survival_by_gender"
   ]
  },
  {
   "cell_type": "code",
   "execution_count": 6,
   "id": "5e4a8883",
   "metadata": {
    "scrolled": true
   },
   "outputs": [
    {
     "data": {
      "image/png": "[encoded data removed]",
      "text/plain": [
       "<Figure size 640x480 with 1 Axes>"
      ]
     },
     "metadata": {},
     "output_type": "display_data"
    }
   ],
   "source": [
    "# What is the distribution of passengers based on gender?\n",
    "df['Sex'].hist(bins=20, grid = False)\n",
    "plt.title(\"Gender Distribution\")\n",
    "plt.xlabel(\"Gender\")\n",
    "plt.ylabel(\"Frequency\")"
   ]
  },
  {
   "cell_type": "code",
   "execution_count": null,
   "id": "d45d4971",
   "metadata": {},
   "outputs": [],
   "source": [
    "# There were 843 males and 466 females on the ship"
   ]
  },
  {
   "cell_type": "code",
   "execution_count": 7,
   "id": "66a6ca49",
   "metadata": {},
   "outputs": [
    {
     "data": {
      "image/png": "[encoded data removed]",
      "text/plain": [
       "<Figure size 640x480 with 1 Axes>"
      ]
     },
     "metadata": {},
     "output_type": "display_data"
    }
   ],
   "source": [
    "#  passengers that belongs to different age groups?\n",
    "\n",
    "df['Age'].hist(bins=20, grid = False)\n",
    "plt.title(\"Age Distribution\")\n",
    "plt.xlabel(\"Age\")\n",
    "plt.ylabel(\"Frequency\");"
   ]
  },
  {
   "cell_type": "code",
   "execution_count": 10,
   "id": "13839465",
   "metadata": {
    "scrolled": true
   },
   "outputs": [
    {
     "data": {
      "text/plain": [
       "Title\n",
       "Capt        0.000000\n",
       "Col         0.250000\n",
       "Countess    1.000000\n",
       "Don         0.000000\n",
       "Dona        1.000000\n",
       "Dr          0.375000\n",
       "Jonkheer    0.000000\n",
       "Lady        1.000000\n",
       "Major       0.500000\n",
       "Master      0.377049\n",
       "Miss        0.788462\n",
       "Mlle        1.000000\n",
       "Mme         1.000000\n",
       "Mr          0.107001\n",
       "Mrs         0.868020\n",
       "Ms          1.000000\n",
       "Rev         0.000000\n",
       "Sir         1.000000\n",
       "Name: Survived, dtype: float64"
      ]
     },
     "execution_count": 10,
     "metadata": {},
     "output_type": "execute_result"
    }
   ],
   "source": [
    "# What are the most common titles in passengers' names?\n",
    "# Name analysis\n",
    "\n",
    "df['Title'] = df['Name'].str.extract(' ([A-Za-z]+)\\.', expand=False)\n",
    "title_survival_correlation = df.groupby('Title')['Survived'].mean()\n",
    "title_survival_correlation"
   ]
  },
  {
   "cell_type": "code",
   "execution_count": null,
   "id": "aecaf96d",
   "metadata": {},
   "outputs": [],
   "source": [
    "#The most common titles in passengers' names are; Countess, Dona, Lady, Mlle, Mme, Ms and Sir. "
   ]
  },
  {
   "cell_type": "code",
   "execution_count": 13,
   "id": "9bfde69e",
   "metadata": {
    "scrolled": true
   },
   "outputs": [
    {
     "data": {
      "text/plain": [
       "263"
      ]
     },
     "execution_count": 13,
     "metadata": {},
     "output_type": "execute_result"
    }
   ],
   "source": [
    " df['Age'].isnull().sum()"
   ]
  },
  {
   "cell_type": "markdown",
   "id": "342d609e",
   "metadata": {},
   "source": [
    "# 2. SURVIVAL ANALYSIS"
   ]
  },
  {
   "cell_type": "code",
   "execution_count": 23,
   "id": "fdfdd516",
   "metadata": {},
   "outputs": [],
   "source": [
    "### 1. Survival Rate:\n",
    "#### Overall Survival Rate:\n",
    "overall_survival_rate = df['Survived'].mean() * 100"
   ]
  },
  {
   "cell_type": "code",
   "execution_count": 24,
   "id": "4b1019c3",
   "metadata": {},
   "outputs": [
    {
     "name": "stdout",
     "output_type": "stream",
     "text": [
      "the overall survival rate is: 37.74%\n"
     ]
    }
   ],
   "source": [
    "print(f\"the overall survival rate is: {overall_survival_rate:.2f}%\")"
   ]
  },
  {
   "cell_type": "code",
   "execution_count": 25,
   "id": "51c0a940",
   "metadata": {},
   "outputs": [
    {
     "data": {
      "text/plain": [
       "0    815\n",
       "1    494\n",
       "Name: Survived, dtype: int64"
      ]
     },
     "execution_count": 25,
     "metadata": {},
     "output_type": "execute_result"
    }
   ],
   "source": [
    "##number of those that survived and those that didnt survived... survival rste\n",
    "df.Survived.value_counts()"
   ]
  },
  {
   "cell_type": "code",
   "execution_count": 113,
   "id": "f0dce0e2",
   "metadata": {
    "scrolled": true
   },
   "outputs": [
    {
     "data": {
      "text/plain": [
       "Sex\n",
       "female    82.618026\n",
       "male      12.930012\n",
       "Name: Survived, dtype: float64"
      ]
     },
     "execution_count": 113,
     "metadata": {},
     "output_type": "execute_result"
    }
   ],
   "source": [
    "#### Survival Rate by Gender:\n",
    "\n",
    "survival_by_gender = df.groupby('Sex')['Survived'].mean() * 100\n",
    "survival_by_gender"
   ]
  },
  {
   "cell_type": "code",
   "execution_count": 15,
   "id": "c76a0499",
   "metadata": {},
   "outputs": [
    {
     "data": {
      "image/png": "[encoded data removed]",
      "text/plain": [
       "<Figure size 640x480 with 1 Axes>"
      ]
     },
     "metadata": {},
     "output_type": "display_data"
    }
   ],
   "source": [
    "# Chart of those that survived with respect to gender\n",
    "\n",
    "survival_by_gender.plot(kind='bar', \n",
    "                        title='Survival by Gender', \n",
    "                        ylabel='Frequency', grid=False);"
   ]
  },
  {
   "cell_type": "code",
   "execution_count": 16,
   "id": "96fe35ca",
   "metadata": {
    "scrolled": true
   },
   "outputs": [
    {
     "data": {
      "text/plain": [
       "<Axes: title={'center': 'survival rate by gender'}, ylabel='Sex'>"
      ]
     },
     "execution_count": 16,
     "metadata": {},
     "output_type": "execute_result"
    },
    {
     "data": {
      "image/png": "[encoded data removed]",
      "text/plain": [
       "<Figure size 640x480 with 1 Axes>"
      ]
     },
     "metadata": {},
     "output_type": "display_data"
    }
   ],
   "source": [
    "#PIE CHART REPRESENTATION\n",
    "survival_by_gender.plot(kind = 'pie', autopct= '%1.1f%%', title='survival rate by gender')\n"
   ]
  },
  {
   "cell_type": "code",
   "execution_count": null,
   "id": "72c27881",
   "metadata": {},
   "outputs": [],
   "source": []
  },
  {
   "cell_type": "code",
   "execution_count": 82,
   "id": "d4deb1a2",
   "metadata": {
    "scrolled": true
   },
   "outputs": [
    {
     "data": {
      "text/plain": [
       "Pclass\n",
       "1    57.585139\n",
       "2    42.238267\n",
       "3    26.939351\n",
       "Name: Survived, dtype: float64"
      ]
     },
     "execution_count": 82,
     "metadata": {},
     "output_type": "execute_result"
    }
   ],
   "source": [
    "#### Survival Rate by Class:\n",
    "survival_by_class = df.groupby('Pclass')['Survived'].mean() * 100\n",
    "survival_by_class"
   ]
  },
  {
   "cell_type": "code",
   "execution_count": 17,
   "id": "1cbd2445",
   "metadata": {},
   "outputs": [
    {
     "data": {
      "text/plain": [
       "Age\n",
       "0.17     100.000000\n",
       "0.33       0.000000\n",
       "0.42     100.000000\n",
       "0.67     100.000000\n",
       "0.75      66.666667\n",
       "            ...    \n",
       "70.50      0.000000\n",
       "71.00      0.000000\n",
       "74.00      0.000000\n",
       "76.00    100.000000\n",
       "80.00    100.000000\n",
       "Name: Survived, Length: 98, dtype: float64"
      ]
     },
     "execution_count": 17,
     "metadata": {},
     "output_type": "execute_result"
    }
   ],
   "source": [
    "# Survival by Age\n",
    "\n",
    "survival_by_age = df.groupby('Age')['Survived'].mean() * 100\n",
    "survival_by_age"
   ]
  },
  {
   "cell_type": "code",
   "execution_count": 18,
   "id": "0011abf7",
   "metadata": {},
   "outputs": [
    {
     "data": {
      "text/plain": [
       "3    191\n",
       "1    186\n",
       "2    117\n",
       "Name: Pclass, dtype: int64"
      ]
     },
     "execution_count": 18,
     "metadata": {},
     "output_type": "execute_result"
    }
   ],
   "source": [
    "# How does the Survival Rate differ with classes (1st, 2nd, and 3rd)?\n",
    "\n",
    "# Class of people that survived the ship wreck\n",
    "df[df[\"Survived\"] ==1][\"Pclass\"].value_counts()"
   ]
  },
  {
   "cell_type": "code",
   "execution_count": 20,
   "id": "f6681001",
   "metadata": {
    "scrolled": true
   },
   "outputs": [
    {
     "data": {
      "image/png": "[encoded data removed]",
      "text/plain": [
       "<Figure size 640x480 with 1 Axes>"
      ]
     },
     "metadata": {},
     "output_type": "display_data"
    }
   ],
   "source": [
    "survival_by_class.plot(kind = 'bar', ylabel='Frequenvy')\n",
    "plt.title(\"Survival Rate by PClass\");"
   ]
  },
  {
   "cell_type": "code",
   "execution_count": 19,
   "id": "ef1e6691",
   "metadata": {
    "scrolled": true
   },
   "outputs": [
    {
     "data": {
      "text/plain": [
       "Pclass\n",
       "1    57.585139\n",
       "2    42.238267\n",
       "3    26.939351\n",
       "Name: Survived, dtype: float64"
      ]
     },
     "execution_count": 19,
     "metadata": {},
     "output_type": "execute_result"
    }
   ],
   "source": [
    "# Percentage of people that survived with respect to each class\n",
    "survival_by_class = df.groupby('Pclass')['Survived'].mean() * 100\n",
    "survival_by_class"
   ]
  },
  {
   "cell_type": "markdown",
   "id": "c9abb7c9",
   "metadata": {},
   "source": [
    "# 3. Age Distribution:"
   ]
  },
  {
   "cell_type": "code",
   "execution_count": 84,
   "id": "251d69e2",
   "metadata": {},
   "outputs": [
    {
     "data": {
      "image/png": "[encoded data removed]",
      "text/plain": [
       "<Figure size 640x480 with 1 Axes>"
      ]
     },
     "metadata": {},
     "output_type": "display_data"
    }
   ],
   "source": [
    "\n",
    "#### Distribution of Ages:\n",
    "df['Age'].hist(bins=50, grid = True)\n",
    "plt.title(\"Age Distribution\")\n",
    "plt.xlabel(\"Age\")\n",
    "plt.ylabel(\"Frequency\");"
   ]
  },
  {
   "cell_type": "code",
   "execution_count": 85,
   "id": "4ebafc6a",
   "metadata": {},
   "outputs": [
    {
     "name": "stdout",
     "output_type": "stream",
     "text": [
      "(0, 1)\n",
      "(9, 2)\n",
      "(8, 3)\n",
      "(7, 4)\n",
      "(6, 5)\n"
     ]
    }
   ],
   "source": [
    "x = [1,2,3,4,5]\n",
    "y = [0,9,8,7,6,]\n",
    "for i in zip(y,x):\n",
    "    print(i)"
   ]
  },
  {
   "cell_type": "code",
   "execution_count": 112,
   "id": "70f13129",
   "metadata": {
    "scrolled": true
   },
   "outputs": [
    {
     "data": {
      "image/png": "[encoded data removed]",
      "text/plain": [
       "<Figure size 640x480 with 1 Axes>"
      ]
     },
     "metadata": {},
     "output_type": "display_data"
    }
   ],
   "source": [
    "# Grouping data by class and plotting\n",
    "class_labels = {1: 'First Class', 2: 'Second Class', 3: 'Third Class'}\n",
    "for class_val, data in df.groupby('Pclass')['Age']:\n",
    "    plt.hist(data, alpha=.5, label=class_labels[class_val])\n",
    "\n",
    "plt.title(\"Age Distribution By Class\")\n",
    "plt.xlabel('Age')\n",
    "plt.ylabel(\"Frequency\")\n",
    "plt.legend()\n",
    "plt.show()\n"
   ]
  },
  {
   "cell_type": "markdown",
   "id": "83baf97a",
   "metadata": {},
   "source": [
    "# 4. Fare Distribution:"
   ]
  },
  {
   "cell_type": "code",
   "execution_count": 22,
   "id": "f8709e9b",
   "metadata": {
    "scrolled": true
   },
   "outputs": [
    {
     "data": {
      "image/png": "[encoded data removed]",
      "text/plain": [
       "<Figure size 640x480 with 1 Axes>"
      ]
     },
     "metadata": {},
     "output_type": "display_data"
    }
   ],
   "source": [
    "\n",
    "#### Distribution of Fares by bar chart\n",
    "df['Fare'].hist(bins=5, grid = False);\n",
    "plt.title(\"Fare Distribution\")\n",
    "plt.xlabel(\"Fare\")\n",
    "plt.ylabel(\"Frequency\");\n",
    "plt.title(\"Fare Distribution\")\n",
    "plt.xlabel(\"Fare\")\n",
    "plt.ylabel(\"Frequency\");\n"
   ]
  },
  {
   "cell_type": "code",
   "execution_count": null,
   "id": "f9840903",
   "metadata": {},
   "outputs": [],
   "source": [
    "# Fares of passengers range from 0 to 512 naira with 0 to 100 naira having the highest frequency."
   ]
  },
  {
   "cell_type": "code",
   "execution_count": 23,
   "id": "de331182",
   "metadata": {},
   "outputs": [
    {
     "data": {
      "text/plain": [
       "count    1308.000000\n",
       "mean       33.295479\n",
       "std        51.758668\n",
       "min         0.000000\n",
       "25%         7.895800\n",
       "50%        14.454200\n",
       "75%        31.275000\n",
       "max       512.329200\n",
       "Name: Fare, dtype: float64"
      ]
     },
     "execution_count": 23,
     "metadata": {},
     "output_type": "execute_result"
    }
   ],
   "source": [
    "# Distribution of fares paid by passengers\n",
    "\n",
    "df['Fare'].describe()"
   ]
  },
  {
   "cell_type": "code",
   "execution_count": null,
   "id": "0c6472fe",
   "metadata": {},
   "outputs": [],
   "source": [
    "# What is the distribution of Fares paid by passengers across different classes?\n",
    "# Grouping by class\n"
   ]
  },
  {
   "cell_type": "code",
   "execution_count": 89,
   "id": "a69909ff",
   "metadata": {},
   "outputs": [
    {
     "data": {
      "image/png": "[encoded data removed]",
      "text/plain": [
       "<Figure size 640x480 with 1 Axes>"
      ]
     },
     "metadata": {},
     "output_type": "display_data"
    }
   ],
   "source": [
    "df.groupby('Pclass')['Fare'].hist();"
   ]
  },
  {
   "cell_type": "code",
   "execution_count": 90,
   "id": "93a9b4bc",
   "metadata": {
    "scrolled": false
   },
   "outputs": [
    {
     "data": {
      "image/png": "[encoded data removed]",
      "text/plain": [
       "<Figure size 640x480 with 1 Axes>"
      ]
     },
     "metadata": {},
     "output_type": "display_data"
    }
   ],
   "source": [
    "# Grouping data by class and plotting\n",
    "class_labels = {1: 'First Class', 2: 'Second Class', 3: 'Third Class'}\n",
    "for class_val, data in df.groupby('Pclass')['Fare']:\n",
    "    plt.hist(data, alpha=0.5, bins=5, label=class_labels[class_val])\n",
    "\n",
    "plt.title(\"Fare Distribution By Class\")\n",
    "plt.xlabel('Fare')\n",
    "plt.ylabel(\"Frequency\")\n",
    "plt.legend()\n",
    "plt.show()\n"
   ]
  },
  {
   "cell_type": "code",
   "execution_count": 24,
   "id": "a784c909",
   "metadata": {
    "scrolled": true
   },
   "outputs": [
    {
     "data": {
      "text/plain": [
       "Pclass\n",
       "1    28265.4043\n",
       "2     5866.6374\n",
       "3     9418.4452\n",
       "Name: Fare, dtype: float64"
      ]
     },
     "execution_count": 24,
     "metadata": {},
     "output_type": "execute_result"
    }
   ],
   "source": [
    "# How does the fare distribution vary among differnt classes?\n",
    "df.groupby('Pclass')['Fare'].sum()"
   ]
  },
  {
   "cell_type": "code",
   "execution_count": null,
   "id": "bd9b35a9",
   "metadata": {},
   "outputs": [],
   "source": [
    "#this above indicates that people in the first class paid more"
   ]
  },
  {
   "cell_type": "code",
   "execution_count": 91,
   "id": "b9a95448",
   "metadata": {
    "scrolled": true
   },
   "outputs": [
    {
     "data": {
      "text/plain": [
       "1309"
      ]
     },
     "execution_count": 91,
     "metadata": {},
     "output_type": "execute_result"
    }
   ],
   "source": [
    "# df['Family'] = df['SibSp'] + df['Parch']\n",
    "df.shape[0]"
   ]
  },
  {
   "cell_type": "code",
   "execution_count": 25,
   "id": "39f7abdb",
   "metadata": {},
   "outputs": [
    {
     "data": {
      "image/png": "[encoded data removed]",
      "text/plain": [
       "<Figure size 640x480 with 1 Axes>"
      ]
     },
     "metadata": {},
     "output_type": "display_data"
    }
   ],
   "source": [
    "# How does the Age distribution differ between classes?\n",
    "\n",
    "class_labels = {1: 'First Class', 2: 'Second Class', 3: 'Third Class'}\n",
    "for class_val, val in df.groupby('Pclass')['Age']:\n",
    "    plt.hist(val, alpha=.5, label=class_labels[class_val])\n",
    "\n",
    "plt.title(\"Age Distribution By Class\")\n",
    "plt.xlabel('Age')\n",
    "plt.ylabel(\"Frequency\")\n",
    "plt.legend()\n",
    "plt.show()"
   ]
  },
  {
   "cell_type": "markdown",
   "id": "207e219a",
   "metadata": {},
   "source": [
    "# 4. FAMILY RELATIONSHIP"
   ]
  },
  {
   "cell_type": "code",
   "execution_count": 92,
   "id": "8996f548",
   "metadata": {},
   "outputs": [
    {
     "name": "stdout",
     "output_type": "stream",
     "text": [
      "Proportion of Passengers with Family: 39.6486%\n"
     ]
    }
   ],
   "source": [
    "### Proportion of Passengers with Family:\n",
    "df['Family'] = df['SibSp'] + df['Parch']\n",
    "proportion_with_family = (df[df['Family'] > 0].shape[0] / df.shape[0]) * 100\n",
    "print(f\"Proportion of Passengers with Family: {proportion_with_family:.4f}%\")"
   ]
  },
  {
   "cell_type": "code",
   "execution_count": 93,
   "id": "c1d1d47e",
   "metadata": {
    "scrolled": true
   },
   "outputs": [
    {
     "name": "stdout",
     "output_type": "stream",
     "text": [
      "survival rate for people with family:     50.67%\n",
      "survival rate for people without family:  29.24%\n"
     ]
    }
   ],
   "source": [
    "#### Survival Rate by Presence of Family:\n",
    "# Does having family aboard impact survival rates?\n",
    "# How does the Sutvival rate differ between passengers with and without family?\n",
    "\n",
    "survival_with_family = df[df['Family'] > 0]['Survived'].mean() * 100\n",
    "survival_without_family = df[df['Family'] == 0]['Survived'].mean() * 100\n",
    "print(f\"survival rate for people with family:     {survival_with_family:.2f}%\")\n",
    "print(f\"survival rate for people without family:  {survival_without_family:.2f}%\")"
   ]
  },
  {
   "cell_type": "markdown",
   "id": "a7225bac",
   "metadata": {},
   "source": [
    "# 5. Embarkation Port"
   ]
  },
  {
   "cell_type": "code",
   "execution_count": 94,
   "id": "eb619685",
   "metadata": {},
   "outputs": [
    {
     "data": {
      "text/plain": [
       "array(['S', 'C', 'Q', nan], dtype=object)"
      ]
     },
     "execution_count": 94,
     "metadata": {},
     "output_type": "execute_result"
    }
   ],
   "source": [
    "\n",
    "df['Embarked'].unique()"
   ]
  },
  {
   "cell_type": "code",
   "execution_count": 29,
   "id": "eaa0060b",
   "metadata": {},
   "outputs": [
    {
     "data": {
      "text/plain": [
       "S    914\n",
       "C    270\n",
       "Q    123\n",
       "Name: Embarked, dtype: int64"
      ]
     },
     "execution_count": 29,
     "metadata": {},
     "output_type": "execute_result"
    }
   ],
   "source": [
    "#### Distribution of Passengers by Port from different embarkation ports\n",
    "passengers_by_port = df['Embarked'].value_counts()\n",
    "passengers_by_port\n"
   ]
  },
  {
   "cell_type": "code",
   "execution_count": 30,
   "id": "188b9329",
   "metadata": {},
   "outputs": [
    {
     "data": {
      "image/png": "[encoded data removed]",
      "text/plain": [
       "<Figure size 640x480 with 1 Axes>"
      ]
     },
     "metadata": {},
     "output_type": "display_data"
    }
   ],
   "source": [
    "passengers_by_port.plot(kind ='bar')\n",
    "plt.xlabel('Embarked')\n",
    "plt.ylabel(\"Frequency\")\n",
    "plt.title(\"Distribution of Passengers from different Embarkation Ports\");"
   ]
  },
  {
   "cell_type": "code",
   "execution_count": 32,
   "id": "5cf24d1f",
   "metadata": {},
   "outputs": [
    {
     "data": {
      "text/plain": [
       "Embarked\n",
       "C    0.492593\n",
       "Q    0.439024\n",
       "S    0.333698\n",
       "Name: Survived, dtype: float64"
      ]
     },
     "execution_count": 32,
     "metadata": {},
     "output_type": "execute_result"
    }
   ],
   "source": [
    "#### Correlation between Port and Survival:\n",
    "\n",
    "port_survival_correlation = df.groupby('Embarked')['Survived'].mean()\n",
    "port_survival_correlation"
   ]
  },
  {
   "cell_type": "code",
   "execution_count": 33,
   "id": "e54ab26b",
   "metadata": {},
   "outputs": [
    {
     "data": {
      "image/png": "[encoded data removed]",
      "text/plain": [
       "<Figure size 640x480 with 1 Axes>"
      ]
     },
     "metadata": {},
     "output_type": "display_data"
    }
   ],
   "source": [
    "port_survival_correlation.plot(kind = 'bar')\n",
    "plt.title(\"Embarkation Port vs Survival\");"
   ]
  },
  {
   "cell_type": "code",
   "execution_count": null,
   "id": "fb6589fb",
   "metadata": {},
   "outputs": [],
   "source": [
    "# There is 0.492593 correlation between those that embarked at Cherbourg and survival\n",
    "# There is 0.439024 correlation between those that embarked at Queenstown and survival\n",
    "# There is 0.333698 correlation between those that embarked at Southampton and survival\n",
    "# All the Embarkation ports have positive correlation with survival "
   ]
  },
  {
   "cell_type": "markdown",
   "id": "ae39d320",
   "metadata": {},
   "source": [
    "# EXPLORATORY DATA ANALYSIS\n"
   ]
  },
  {
   "cell_type": "markdown",
   "id": "a9818a19",
   "metadata": {},
   "source": [
    "# 6. Cabin Class and Survival:\n",
    "#### Survival Rate by Cabin Class:\n",
    "\n",
    "survival_by_cabin_class = df.groupby('Pclass')['Survived'].mean() * 100\n",
    "survival_by_cabin_class"
   ]
  },
  {
   "cell_type": "code",
   "execution_count": 114,
   "id": "00195687",
   "metadata": {},
   "outputs": [
    {
     "data": {
      "image/png": "[encoded data removed]",
      "text/plain": [
       "<Figure size 640x480 with 1 Axes>"
      ]
     },
     "metadata": {},
     "output_type": "display_data"
    }
   ],
   "source": [
    "survival_by_cabin_class.plot(kind='bar')\n",
    "plt.title(\"Survival Rate by Cabin Class\");"
   ]
  },
  {
   "cell_type": "markdown",
   "id": "2a024c5a",
   "metadata": {},
   "source": [
    "#### Correlation between Cabin Location and Survival:\n",
    "\n",
    "Assuming Cabin information is missing for a significant portion of data\n",
    "Correlation might not be accurate without complete data"
   ]
  },
  {
   "cell_type": "markdown",
   "id": "5cc5b055",
   "metadata": {},
   "source": [
    "# 7. Name Analysis:"
   ]
  },
  {
   "cell_type": "code",
   "execution_count": 41,
   "id": "4701750c",
   "metadata": {},
   "outputs": [
    {
     "data": {
      "text/plain": [
       "Title\n",
       "Capt        0.000000\n",
       "Col         0.250000\n",
       "Countess    1.000000\n",
       "Don         0.000000\n",
       "Dona        1.000000\n",
       "Dr          0.375000\n",
       "Jonkheer    0.000000\n",
       "Lady        1.000000\n",
       "Major       0.500000\n",
       "Master      0.377049\n",
       "Miss        0.788462\n",
       "Mlle        1.000000\n",
       "Mme         1.000000\n",
       "Mr          0.107001\n",
       "Mrs         0.868020\n",
       "Ms          1.000000\n",
       "Rev         0.000000\n",
       "Sir         1.000000\n",
       "Name: Survived, dtype: float64"
      ]
     },
     "execution_count": 41,
     "metadata": {},
     "output_type": "execute_result"
    }
   ],
   "source": [
    "\n",
    "#### Extract Insights from Titles:\n",
    "\n",
    "df['Title'] = df['Name'].str.extract(' ([A-Za-z]+)\\.', expand=False)\n",
    "title_survival_correlation = df.groupby('Title')['Survived'].mean()\n",
    "title_survival_correlation"
   ]
  },
  {
   "cell_type": "code",
   "execution_count": 42,
   "id": "a78a49a4",
   "metadata": {
    "scrolled": true
   },
   "outputs": [
    {
     "data": {
      "text/plain": [
       "(0           Mr\n",
       " 1          Mrs\n",
       " 2         Miss\n",
       " 3          Mrs\n",
       " 4           Mr\n",
       "          ...  \n",
       " 1304        Mr\n",
       " 1305      Dona\n",
       " 1306        Mr\n",
       " 1307        Mr\n",
       " 1308    Master\n",
       " Name: Title, Length: 1309, dtype: object,\n",
       " 0         male\n",
       " 1       female\n",
       " 2       female\n",
       " 3       female\n",
       " 4         male\n",
       "          ...  \n",
       " 1304      male\n",
       " 1305    female\n",
       " 1306      male\n",
       " 1307      male\n",
       " 1308      male\n",
       " Name: Sex, Length: 1309, dtype: object)"
      ]
     },
     "execution_count": 42,
     "metadata": {},
     "output_type": "execute_result"
    }
   ],
   "source": [
    "for dataset in df:\n",
    "    df['Title'] = df['Name'].str.extract(' ([A-Za-z]+)\\.', expand=False)\n",
    "title_gender_correlation = (df['Title'], df['Sex'])\n",
    "title_gender_correlation"
   ]
  },
  {
   "cell_type": "markdown",
   "id": "0ad60ae0",
   "metadata": {},
   "source": [
    "# 8. Missing Data:"
   ]
  },
  {
   "cell_type": "code",
   "execution_count": 43,
   "id": "1098de11",
   "metadata": {},
   "outputs": [
    {
     "data": {
      "text/plain": [
       "Unnamed: 0        0\n",
       "PassengerId       0\n",
       "Survived          0\n",
       "Pclass            0\n",
       "Name              0\n",
       "Sex               0\n",
       "Age             263\n",
       "SibSp             0\n",
       "Parch             0\n",
       "Ticket            0\n",
       "Fare              1\n",
       "Cabin          1014\n",
       "Embarked          2\n",
       "Title             0\n",
       "dtype: int64"
      ]
     },
     "execution_count": 43,
     "metadata": {},
     "output_type": "execute_result"
    }
   ],
   "source": [
    "#### Extent of Missing Data:\n",
    "# How significant is the missing data in the columns?\n",
    "\n",
    "missing_data = df.isnull().sum()\n",
    "missing_data"
   ]
  },
  {
   "cell_type": "code",
   "execution_count": 44,
   "id": "e5bd1152",
   "metadata": {
    "scrolled": false
   },
   "outputs": [
    {
     "data": {
      "image/png": "[encoded data removed]",
      "text/plain": [
       "<Figure size 640x480 with 1 Axes>"
      ]
     },
     "metadata": {},
     "output_type": "display_data"
    }
   ],
   "source": [
    "missing_data.plot(kind = 'bar');\n"
   ]
  },
  {
   "cell_type": "code",
   "execution_count": 45,
   "id": "f5e268f3",
   "metadata": {},
   "outputs": [],
   "source": [
    "#to see where we are missing data let use seaborn to create too"
   ]
  },
  {
   "cell_type": "code",
   "execution_count": 46,
   "id": "9811d68c",
   "metadata": {},
   "outputs": [
    {
     "data": {
      "text/plain": [
       "<Axes: >"
      ]
     },
     "execution_count": 46,
     "metadata": {},
     "output_type": "execute_result"
    },
    {
     "data": {
      "image/png": "[encoded data removed]",
      "text/plain": [
       "<Figure size 640x480 with 1 Axes>"
      ]
     },
     "metadata": {},
     "output_type": "display_data"
    }
   ],
   "source": [
    "sns.heatmap(df.isnull(),yticklabels=False,cbar=False,cmap='viridis')"
   ]
  },
  {
   "cell_type": "markdown",
   "id": "6013b3c3",
   "metadata": {},
   "source": [
    "#### Handling Missing Data:\n",
    "- For Age: Imputation using mean/median age or predictive models.\n",
    "- For Cabin: Consider dropping this feature due to high missingness or use it as a categorical variable (e.g., presence/absence).\n",
    "- For Embarked: Imputation with the mode value or other meaningful approaches.\n",
    "\n"
   ]
  },
  {
   "cell_type": "code",
   "execution_count": 47,
   "id": "25889235",
   "metadata": {},
   "outputs": [
    {
     "data": {
      "text/html": [
       "<div>\n",
       "<style scoped>\n",
       "    .dataframe tbody tr th:only-of-type {\n",
       "        vertical-align: middle;\n",
       "    }\n",
       "\n",
       "    .dataframe tbody tr th {\n",
       "        vertical-align: top;\n",
       "    }\n",
       "\n",
       "    .dataframe thead th {\n",
       "        text-align: right;\n",
       "    }\n",
       "</style>\n",
       "<table border=\"1\" class=\"dataframe\">\n",
       "  <thead>\n",
       "    <tr style=\"text-align: right;\">\n",
       "      <th></th>\n",
       "      <th>Unnamed: 0</th>\n",
       "      <th>PassengerId</th>\n",
       "      <th>Survived</th>\n",
       "      <th>Pclass</th>\n",
       "      <th>Name</th>\n",
       "      <th>Sex</th>\n",
       "      <th>Age</th>\n",
       "      <th>SibSp</th>\n",
       "      <th>Parch</th>\n",
       "      <th>Ticket</th>\n",
       "      <th>Fare</th>\n",
       "      <th>Cabin</th>\n",
       "      <th>Embarked</th>\n",
       "      <th>Title</th>\n",
       "    </tr>\n",
       "  </thead>\n",
       "  <tbody>\n",
       "    <tr>\n",
       "      <th>0</th>\n",
       "      <td>0</td>\n",
       "      <td>1</td>\n",
       "      <td>0</td>\n",
       "      <td>3</td>\n",
       "      <td>Braund, Mr. Owen Harris</td>\n",
       "      <td>male</td>\n",
       "      <td>22.0</td>\n",
       "      <td>1</td>\n",
       "      <td>0</td>\n",
       "      <td>A/5 21171</td>\n",
       "      <td>7.2500</td>\n",
       "      <td>NaN</td>\n",
       "      <td>S</td>\n",
       "      <td>Mr</td>\n",
       "    </tr>\n",
       "    <tr>\n",
       "      <th>1</th>\n",
       "      <td>1</td>\n",
       "      <td>2</td>\n",
       "      <td>1</td>\n",
       "      <td>1</td>\n",
       "      <td>Cumings, Mrs. John Bradley (Florence Briggs Th...</td>\n",
       "      <td>female</td>\n",
       "      <td>38.0</td>\n",
       "      <td>1</td>\n",
       "      <td>0</td>\n",
       "      <td>PC 17599</td>\n",
       "      <td>71.2833</td>\n",
       "      <td>C85</td>\n",
       "      <td>C</td>\n",
       "      <td>Mrs</td>\n",
       "    </tr>\n",
       "    <tr>\n",
       "      <th>2</th>\n",
       "      <td>2</td>\n",
       "      <td>3</td>\n",
       "      <td>1</td>\n",
       "      <td>3</td>\n",
       "      <td>Heikkinen, Miss. Laina</td>\n",
       "      <td>female</td>\n",
       "      <td>26.0</td>\n",
       "      <td>0</td>\n",
       "      <td>0</td>\n",
       "      <td>STON/O2. 3101282</td>\n",
       "      <td>7.9250</td>\n",
       "      <td>NaN</td>\n",
       "      <td>S</td>\n",
       "      <td>Miss</td>\n",
       "    </tr>\n",
       "  </tbody>\n",
       "</table>\n",
       "</div>"
      ],
      "text/plain": [
       "   Unnamed: 0  PassengerId  Survived  Pclass  \\\n",
       "0           0            1         0       3   \n",
       "1           1            2         1       1   \n",
       "2           2            3         1       3   \n",
       "\n",
       "                                                Name     Sex   Age  SibSp  \\\n",
       "0                            Braund, Mr. Owen Harris    male  22.0      1   \n",
       "1  Cumings, Mrs. John Bradley (Florence Briggs Th...  female  38.0      1   \n",
       "2                             Heikkinen, Miss. Laina  female  26.0      0   \n",
       "\n",
       "   Parch            Ticket     Fare Cabin Embarked Title  \n",
       "0      0         A/5 21171   7.2500   NaN        S    Mr  \n",
       "1      0          PC 17599  71.2833   C85        C   Mrs  \n",
       "2      0  STON/O2. 3101282   7.9250   NaN        S  Miss  "
      ]
     },
     "execution_count": 47,
     "metadata": {},
     "output_type": "execute_result"
    }
   ],
   "source": [
    "df.head(3)"
   ]
  },
  {
   "cell_type": "code",
   "execution_count": 48,
   "id": "5f88e886",
   "metadata": {},
   "outputs": [
    {
     "data": {
      "text/plain": [
       "Index(['Unnamed: 0', 'PassengerId', 'Survived', 'Pclass', 'Name', 'Sex', 'Age',\n",
       "       'SibSp', 'Parch', 'Ticket', 'Fare', 'Cabin', 'Embarked', 'Title'],\n",
       "      dtype='object')"
      ]
     },
     "execution_count": 48,
     "metadata": {},
     "output_type": "execute_result"
    }
   ],
   "source": [
    "df.columns"
   ]
  },
  {
   "cell_type": "code",
   "execution_count": 49,
   "id": "5b529ca8",
   "metadata": {},
   "outputs": [],
   "source": [
    "# df['Title'].value_counts()\n"
   ]
  },
  {
   "cell_type": "markdown",
   "id": "a1a638da",
   "metadata": {},
   "source": [
    "#  FEATURE CORRELATION"
   ]
  },
  {
   "cell_type": "code",
   "execution_count": 55,
   "id": "e936d1c8",
   "metadata": {},
   "outputs": [
    {
     "data": {
      "text/html": [
       "<div>\n",
       "<style scoped>\n",
       "    .dataframe tbody tr th:only-of-type {\n",
       "        vertical-align: middle;\n",
       "    }\n",
       "\n",
       "    .dataframe tbody tr th {\n",
       "        vertical-align: top;\n",
       "    }\n",
       "\n",
       "    .dataframe thead th {\n",
       "        text-align: right;\n",
       "    }\n",
       "</style>\n",
       "<table border=\"1\" class=\"dataframe\">\n",
       "  <thead>\n",
       "    <tr style=\"text-align: right;\">\n",
       "      <th></th>\n",
       "      <th>Unnamed: 0</th>\n",
       "      <th>PassengerId</th>\n",
       "      <th>Survived</th>\n",
       "      <th>Pclass</th>\n",
       "      <th>Name</th>\n",
       "      <th>Sex</th>\n",
       "      <th>Age</th>\n",
       "      <th>SibSp</th>\n",
       "      <th>Parch</th>\n",
       "      <th>Ticket</th>\n",
       "      <th>Fare</th>\n",
       "      <th>Cabin</th>\n",
       "      <th>Embarked</th>\n",
       "      <th>Family</th>\n",
       "    </tr>\n",
       "  </thead>\n",
       "  <tbody>\n",
       "    <tr>\n",
       "      <th>0</th>\n",
       "      <td>0</td>\n",
       "      <td>1</td>\n",
       "      <td>0</td>\n",
       "      <td>3</td>\n",
       "      <td>Braund, Mr. Owen Harris</td>\n",
       "      <td>male</td>\n",
       "      <td>22.0</td>\n",
       "      <td>1</td>\n",
       "      <td>0</td>\n",
       "      <td>A/5 21171</td>\n",
       "      <td>7.2500</td>\n",
       "      <td>NaN</td>\n",
       "      <td>S</td>\n",
       "      <td>1</td>\n",
       "    </tr>\n",
       "    <tr>\n",
       "      <th>1</th>\n",
       "      <td>1</td>\n",
       "      <td>2</td>\n",
       "      <td>1</td>\n",
       "      <td>1</td>\n",
       "      <td>Cumings, Mrs. John Bradley (Florence Briggs Th...</td>\n",
       "      <td>female</td>\n",
       "      <td>38.0</td>\n",
       "      <td>1</td>\n",
       "      <td>0</td>\n",
       "      <td>PC 17599</td>\n",
       "      <td>71.2833</td>\n",
       "      <td>C85</td>\n",
       "      <td>C</td>\n",
       "      <td>1</td>\n",
       "    </tr>\n",
       "    <tr>\n",
       "      <th>2</th>\n",
       "      <td>2</td>\n",
       "      <td>3</td>\n",
       "      <td>1</td>\n",
       "      <td>3</td>\n",
       "      <td>Heikkinen, Miss. Laina</td>\n",
       "      <td>female</td>\n",
       "      <td>26.0</td>\n",
       "      <td>0</td>\n",
       "      <td>0</td>\n",
       "      <td>STON/O2. 3101282</td>\n",
       "      <td>7.9250</td>\n",
       "      <td>NaN</td>\n",
       "      <td>S</td>\n",
       "      <td>0</td>\n",
       "    </tr>\n",
       "    <tr>\n",
       "      <th>3</th>\n",
       "      <td>3</td>\n",
       "      <td>4</td>\n",
       "      <td>1</td>\n",
       "      <td>1</td>\n",
       "      <td>Futrelle, Mrs. Jacques Heath (Lily May Peel)</td>\n",
       "      <td>female</td>\n",
       "      <td>35.0</td>\n",
       "      <td>1</td>\n",
       "      <td>0</td>\n",
       "      <td>113803</td>\n",
       "      <td>53.1000</td>\n",
       "      <td>C123</td>\n",
       "      <td>S</td>\n",
       "      <td>1</td>\n",
       "    </tr>\n",
       "    <tr>\n",
       "      <th>4</th>\n",
       "      <td>4</td>\n",
       "      <td>5</td>\n",
       "      <td>0</td>\n",
       "      <td>3</td>\n",
       "      <td>Allen, Mr. William Henry</td>\n",
       "      <td>male</td>\n",
       "      <td>35.0</td>\n",
       "      <td>0</td>\n",
       "      <td>0</td>\n",
       "      <td>373450</td>\n",
       "      <td>8.0500</td>\n",
       "      <td>NaN</td>\n",
       "      <td>S</td>\n",
       "      <td>0</td>\n",
       "    </tr>\n",
       "    <tr>\n",
       "      <th>...</th>\n",
       "      <td>...</td>\n",
       "      <td>...</td>\n",
       "      <td>...</td>\n",
       "      <td>...</td>\n",
       "      <td>...</td>\n",
       "      <td>...</td>\n",
       "      <td>...</td>\n",
       "      <td>...</td>\n",
       "      <td>...</td>\n",
       "      <td>...</td>\n",
       "      <td>...</td>\n",
       "      <td>...</td>\n",
       "      <td>...</td>\n",
       "      <td>...</td>\n",
       "    </tr>\n",
       "    <tr>\n",
       "      <th>1304</th>\n",
       "      <td>413</td>\n",
       "      <td>1305</td>\n",
       "      <td>0</td>\n",
       "      <td>3</td>\n",
       "      <td>Spector, Mr. Woolf</td>\n",
       "      <td>male</td>\n",
       "      <td>NaN</td>\n",
       "      <td>0</td>\n",
       "      <td>0</td>\n",
       "      <td>A.5. 3236</td>\n",
       "      <td>8.0500</td>\n",
       "      <td>NaN</td>\n",
       "      <td>S</td>\n",
       "      <td>0</td>\n",
       "    </tr>\n",
       "    <tr>\n",
       "      <th>1305</th>\n",
       "      <td>414</td>\n",
       "      <td>1306</td>\n",
       "      <td>1</td>\n",
       "      <td>1</td>\n",
       "      <td>Oliva y Ocana, Dona. Fermina</td>\n",
       "      <td>female</td>\n",
       "      <td>39.0</td>\n",
       "      <td>0</td>\n",
       "      <td>0</td>\n",
       "      <td>PC 17758</td>\n",
       "      <td>108.9000</td>\n",
       "      <td>C105</td>\n",
       "      <td>C</td>\n",
       "      <td>0</td>\n",
       "    </tr>\n",
       "    <tr>\n",
       "      <th>1306</th>\n",
       "      <td>415</td>\n",
       "      <td>1307</td>\n",
       "      <td>0</td>\n",
       "      <td>3</td>\n",
       "      <td>Saether, Mr. Simon Sivertsen</td>\n",
       "      <td>male</td>\n",
       "      <td>38.5</td>\n",
       "      <td>0</td>\n",
       "      <td>0</td>\n",
       "      <td>SOTON/O.Q. 3101262</td>\n",
       "      <td>7.2500</td>\n",
       "      <td>NaN</td>\n",
       "      <td>S</td>\n",
       "      <td>0</td>\n",
       "    </tr>\n",
       "    <tr>\n",
       "      <th>1307</th>\n",
       "      <td>416</td>\n",
       "      <td>1308</td>\n",
       "      <td>0</td>\n",
       "      <td>3</td>\n",
       "      <td>Ware, Mr. Frederick</td>\n",
       "      <td>male</td>\n",
       "      <td>NaN</td>\n",
       "      <td>0</td>\n",
       "      <td>0</td>\n",
       "      <td>359309</td>\n",
       "      <td>8.0500</td>\n",
       "      <td>NaN</td>\n",
       "      <td>S</td>\n",
       "      <td>0</td>\n",
       "    </tr>\n",
       "    <tr>\n",
       "      <th>1308</th>\n",
       "      <td>417</td>\n",
       "      <td>1309</td>\n",
       "      <td>0</td>\n",
       "      <td>3</td>\n",
       "      <td>Peter, Master. Michael J</td>\n",
       "      <td>male</td>\n",
       "      <td>NaN</td>\n",
       "      <td>1</td>\n",
       "      <td>1</td>\n",
       "      <td>2668</td>\n",
       "      <td>22.3583</td>\n",
       "      <td>NaN</td>\n",
       "      <td>C</td>\n",
       "      <td>2</td>\n",
       "    </tr>\n",
       "  </tbody>\n",
       "</table>\n",
       "<p>1309 rows × 14 columns</p>\n",
       "</div>"
      ],
      "text/plain": [
       "      Unnamed: 0  PassengerId  Survived  Pclass  \\\n",
       "0              0            1         0       3   \n",
       "1              1            2         1       1   \n",
       "2              2            3         1       3   \n",
       "3              3            4         1       1   \n",
       "4              4            5         0       3   \n",
       "...          ...          ...       ...     ...   \n",
       "1304         413         1305         0       3   \n",
       "1305         414         1306         1       1   \n",
       "1306         415         1307         0       3   \n",
       "1307         416         1308         0       3   \n",
       "1308         417         1309         0       3   \n",
       "\n",
       "                                                   Name     Sex   Age  SibSp  \\\n",
       "0                               Braund, Mr. Owen Harris    male  22.0      1   \n",
       "1     Cumings, Mrs. John Bradley (Florence Briggs Th...  female  38.0      1   \n",
       "2                                Heikkinen, Miss. Laina  female  26.0      0   \n",
       "3          Futrelle, Mrs. Jacques Heath (Lily May Peel)  female  35.0      1   \n",
       "4                              Allen, Mr. William Henry    male  35.0      0   \n",
       "...                                                 ...     ...   ...    ...   \n",
       "1304                                 Spector, Mr. Woolf    male   NaN      0   \n",
       "1305                       Oliva y Ocana, Dona. Fermina  female  39.0      0   \n",
       "1306                       Saether, Mr. Simon Sivertsen    male  38.5      0   \n",
       "1307                                Ware, Mr. Frederick    male   NaN      0   \n",
       "1308                           Peter, Master. Michael J    male   NaN      1   \n",
       "\n",
       "      Parch              Ticket      Fare Cabin Embarked  Family  \n",
       "0         0           A/5 21171    7.2500   NaN        S       1  \n",
       "1         0            PC 17599   71.2833   C85        C       1  \n",
       "2         0    STON/O2. 3101282    7.9250   NaN        S       0  \n",
       "3         0              113803   53.1000  C123        S       1  \n",
       "4         0              373450    8.0500   NaN        S       0  \n",
       "...     ...                 ...       ...   ...      ...     ...  \n",
       "1304      0           A.5. 3236    8.0500   NaN        S       0  \n",
       "1305      0            PC 17758  108.9000  C105        C       0  \n",
       "1306      0  SOTON/O.Q. 3101262    7.2500   NaN        S       0  \n",
       "1307      0              359309    8.0500   NaN        S       0  \n",
       "1308      1                2668   22.3583   NaN        C       2  \n",
       "\n",
       "[1309 rows x 14 columns]"
      ]
     },
     "execution_count": 55,
     "metadata": {},
     "output_type": "execute_result"
    }
   ],
   "source": [
    "# Is there any correlation betweeen survival and age or family relationships?\n",
    "\n",
    "df['Family']=df['SibSp']+df['Parch']\n",
    "df"
   ]
  },
  {
   "cell_type": "code",
   "execution_count": 56,
   "id": "2acbe130",
   "metadata": {
    "scrolled": false
   },
   "outputs": [
    {
     "data": {
      "text/plain": [
       "Text(0.5, 1.0, 'Features Correlation Heatmap')"
      ]
     },
     "execution_count": 56,
     "metadata": {},
     "output_type": "execute_result"
    },
    {
     "data": {
      "image/png": "[encoded data removed]",
      "text/plain": [
       "<Figure size 1200x800 with 2 Axes>"
      ]
     },
     "metadata": {},
     "output_type": "display_data"
    }
   ],
   "source": [
    "# Are there strong correlations b/w different features?\n",
    "\n",
    "import seaborn as sns\n",
    "plt.figure(figsize = (12,8))\n",
    "sns.heatmap(df[['Survived', 'Pclass', 'Age', 'SibSp',\n",
    "       'Parch', 'Fare', 'Family']].corr(), annot = True, cmap = 'viridis')\n",
    "plt.title('Features Correlation Heatmap')"
   ]
  },
  {
   "cell_type": "code",
   "execution_count": 37,
   "id": "67cd52e0",
   "metadata": {},
   "outputs": [
    {
     "data": {
      "text/plain": [
       "Index(['Unnamed: 0', 'PassengerId', 'Survived', 'Pclass', 'Name', 'Sex', 'Age',\n",
       "       'SibSp', 'Parch', 'Ticket', 'Fare', 'Cabin', 'Embarked', 'Title'],\n",
       "      dtype='object')"
      ]
     },
     "execution_count": 37,
     "metadata": {},
     "output_type": "execute_result"
    }
   ],
   "source": [
    "df.columns"
   ]
  },
  {
   "cell_type": "code",
   "execution_count": 57,
   "id": "af09ec0c",
   "metadata": {},
   "outputs": [
    {
     "data": {
      "text/plain": [
       "Survived    1.000000\n",
       "Fare        0.233622\n",
       "Parch       0.108919\n",
       "Family      0.061090\n",
       "SibSp       0.002370\n",
       "Age        -0.053695\n",
       "Pclass     -0.264710\n",
       "Name: Survived, dtype: float64"
      ]
     },
     "execution_count": 57,
     "metadata": {},
     "output_type": "execute_result"
    }
   ],
   "source": [
    "#### Strongest Correlations with Survival:\n",
    "# Which features are strongly correlated with survival and how significant are the correlations?\n",
    "\n",
    "strongest_survival_correlations = df[['Survived', 'Pclass', 'Age', 'SibSp',\n",
    "       'Parch', 'Fare', 'Family']].corr()['Survived'].sort_values(ascending=False)\n",
    "strongest_survival_correlations"
   ]
  },
  {
   "cell_type": "code",
   "execution_count": 73,
   "id": "d6a76338",
   "metadata": {
    "scrolled": true
   },
   "outputs": [
    {
     "data": {
      "image/png": "[encoded data removed]",
      "text/plain": [
       "<Figure size 640x480 with 1 Axes>"
      ]
     },
     "metadata": {},
     "output_type": "display_data"
    }
   ],
   "source": [
    "strongest_survival_correlations.plot(kind = \"bar\");"
   ]
  },
  {
   "cell_type": "code",
   "execution_count": null,
   "id": "d7622d57",
   "metadata": {},
   "outputs": [],
   "source": [
    " # Fare has a strong positive correlation (0.233622) with Survival\n",
    "# Pclass has a strong negative correlation (0.264710) with Survival\n"
   ]
  },
  {
   "cell_type": "code",
   "execution_count": null,
   "id": "b34d8216",
   "metadata": {},
   "outputs": [],
   "source": []
  },
  {
   "cell_type": "code",
   "execution_count": null,
   "id": "35a46344",
   "metadata": {},
   "outputs": [],
   "source": []
  }
 ],
 "metadata": {
  "kernelspec": {
   "display_name": "Python 3 (ipykernel)",
   "language": "python",
   "name": "python3"
  },
  "language_info": {
   "codemirror_mode": {
    "name": "ipython",
    "version": 3
   },
   "file_extension": ".py",
   "mimetype": "text/x-python",
   "name": "python",
   "nbconvert_exporter": "python",
   "pygments_lexer": "ipython3",
   "version": "3.11.4"
  }
 },
 "nbformat": 4,
 "nbformat_minor": 5
}
